{
 "cells": [
  {
   "cell_type": "code",
   "execution_count": 17,
   "metadata": {},
   "outputs": [],
   "source": [
    "last_name = [\"Nguyễn\",\"Trần\", \"Lê\", \"Phạm\", \"Phan\", \"Tô\", \"Phùng\", \"Đỗ\", \"Lã\", \"Võ\", \"Bùi\", \"Đặng\", \"Dương\", \"Lý\", \"Hoàng\", \"Vũ\", \"Hồ\", \"Ngô\", \"Đinh\",\"lã\"]"
   ]
  },
  {
   "cell_type": "code",
   "execution_count": 39,
   "metadata": {},
   "outputs": [],
   "source": [
    "with open(\"/home/minh/Documents/girl.csv\", \"r\") as f:\n",
    "    lines = f.readlines()\n",
    "first_name_girl = [i.split(\"\\n\")[0].strip() for i in lines]\n",
    "A =len(first_name_girl) * 20\n",
    "# print(first_name_girl)"
   ]
  },
  {
   "cell_type": "code",
   "execution_count": 42,
   "metadata": {},
   "outputs": [],
   "source": [
    "with open(\"/home/minh/Documents/boy.csv\", \"r\") as f:\n",
    "    lines = f.readlines()\n",
    "first_name_boy = [i.split(\"\\n\")[0] for i in lines]\n",
    "B = len(first_name_boy) * 20"
   ]
  },
  {
   "cell_type": "code",
   "execution_count": 48,
   "metadata": {},
   "outputs": [],
   "source": [
    "import random\n",
    "import csv \n",
    "import unidecode\n",
    "# new OutputStreamWriter(new FileOutputStream(csvf), \"UTF-8\")\n",
    "Acc = {}\n",
    "header = ['id','Username','Fullname', 'Province', 'Age']\n",
    "with open(\"Fullname_Girl.csv\", \"a+\") as csvf:\n",
    "    id = 1 + 490000\n",
    "    csv_writer = csv.writer(csvf)\n",
    "    # csv_writer.writerow(header)\n",
    "    for ho in last_name:\n",
    "        for name in first_name_girl:\n",
    "            FullName = ho + \" \" + name \n",
    "            dem_ten = [str(x) for x in name.split()]\n",
    "            Username = unidecode.unidecode(dem_ten[-1].lower())+ unidecode.unidecode(ho[0].lower())\n",
    "            for i in range(len(dem_ten)-1):\n",
    "                Username += unidecode.unidecode( dem_ten[i][0].lower())\n",
    "            for i in range(1,21):\n",
    "                SoLuong = 0\n",
    "                try :\n",
    "                    SoLuong = Acc[Username] + 1\n",
    "                    Acc[Username] = SoLuong \n",
    "                except:\n",
    "                    Acc[Username] = 1\n",
    "                    SoLuong = 1\n",
    "\n",
    "    \n",
    "                Province = TPS[random.randint(0,64)]\n",
    "                Age = random.randint(18,40)\n",
    "                record = [id,Username+unidecode.unidecode(str(SoLuong)), FullName, Province, Age]\n",
    "                csv_writer.writerow(record)\n",
    "                id+=1\n",
    "    \n"
   ]
  }
 ],
 "metadata": {
  "interpreter": {
   "hash": "aee8b7b246df8f9039afb4144a1f6fd8d2ca17a180786b69acc140d282b71a49"
  },
  "kernelspec": {
   "display_name": "Python 3.9.13 64-bit",
   "language": "python",
   "name": "python3"
  },
  "language_info": {
   "codemirror_mode": {
    "name": "ipython",
    "version": 3
   },
   "file_extension": ".py",
   "mimetype": "text/x-python",
   "name": "python",
   "nbconvert_exporter": "python",
   "pygments_lexer": "ipython3",
   "version": "3.9.13"
  },
  "orig_nbformat": 4
 },
 "nbformat": 4,
 "nbformat_minor": 2
}
